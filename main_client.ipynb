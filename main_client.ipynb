{
 "cells": [
  {
   "cell_type": "code",
   "execution_count": null,
   "metadata": {},
   "outputs": [],
   "source": []
  },
  {
   "cell_type": "code",
   "execution_count": 1,
   "metadata": {},
   "outputs": [],
   "source": [
    "import cv2\n",
    "import numpy as np\n",
    "import requests\n",
    "from tensorflow.keras.models import load_model\n",
    "import time\n",
    "from tensorflow.keras.preprocessing import image"
   ]
  },
  {
   "cell_type": "code",
   "execution_count": 2,
   "metadata": {},
   "outputs": [],
   "source": [
    "model = load_model(\"fusion_model.keras\")"
   ]
  },
  {
   "cell_type": "code",
   "execution_count": null,
   "metadata": {},
   "outputs": [],
   "source": []
  },
  {
   "cell_type": "code",
   "execution_count": 3,
   "metadata": {},
   "outputs": [],
   "source": [
    "import cv2\n",
    "import numpy as np\n",
    "\n",
    "def calculate_blurriness(image):\n",
    "    \"\"\"Return the variance of the Laplacian (blurriness score)\"\"\"\n",
    "    gray = cv2.cvtColor(image, cv2.COLOR_BGR2GRAY)\n",
    "    return cv2.Laplacian(gray, cv2.CV_64F).var()\n",
    "\n",
    "def get_least_blurry_image(image_buffer):\n",
    "    \"\"\"Return the image with the highest sharpness (least blurry)\"\"\"\n",
    "    sharpest_image = None\n",
    "    max_score = -1\n",
    "\n",
    "    for i, img in enumerate(image_buffer):\n",
    "        score = calculate_blurriness(img)\n",
    "        print(f\"Image {i} - Sharpness Score: {score}\")\n",
    "        if score > max_score:\n",
    "            max_score = score\n",
    "            sharpest_image = img\n",
    "\n",
    "    return sharpest_image\n"
   ]
  },
  {
   "cell_type": "code",
   "execution_count": null,
   "metadata": {},
   "outputs": [
    {
     "name": "stdout",
     "output_type": "stream",
     "text": [
      "Start\n",
      "Image 0 - Sharpness Score: 462.34660227075153\n",
      "Image 1 - Sharpness Score: 462.9179787862142\n",
      "Image 2 - Sharpness Score: 461.96207610978036\n",
      "Image 3 - Sharpness Score: 460.6861707598263\n",
      "Image 4 - Sharpness Score: 461.10850077158625\n",
      "Image 5 - Sharpness Score: 460.2108899855614\n",
      "Image 6 - Sharpness Score: 460.52292727593294\n",
      "Image 7 - Sharpness Score: 462.3563702832435\n",
      "Image 8 - Sharpness Score: 459.91651964941025\n",
      "Image 9 - Sharpness Score: 459.9908216037327\n",
      "\u001b[1m1/1\u001b[0m \u001b[32m━━━━━━━━━━━━━━━━━━━━\u001b[0m\u001b[37m\u001b[0m \u001b[1m0s\u001b[0m 400ms/step\n",
      "Predicted Direction: North (Inference Time: 0.51s)\n",
      "Message sent\n",
      "Image 0 - Sharpness Score: 394.96444719567836\n",
      "Image 1 - Sharpness Score: 396.51751655272375\n",
      "Image 2 - Sharpness Score: 394.27078118065737\n",
      "Image 3 - Sharpness Score: 392.67010852796767\n",
      "Image 4 - Sharpness Score: 391.97677641292154\n",
      "Image 5 - Sharpness Score: 391.9433976279257\n",
      "Image 6 - Sharpness Score: 390.5443409010145\n",
      "Image 7 - Sharpness Score: 389.3371393101904\n",
      "Image 8 - Sharpness Score: 389.35994021771756\n",
      "Image 9 - Sharpness Score: 389.70952262156806\n",
      "\u001b[1m1/1\u001b[0m \u001b[32m━━━━━━━━━━━━━━━━━━━━\u001b[0m\u001b[37m\u001b[0m \u001b[1m0s\u001b[0m 416ms/step\n",
      "Predicted Direction: Left (Inference Time: 0.52s)\n",
      "Message sent\n"
     ]
    }
   ],
   "source": [
    "#Direction following\n",
    "direction = {\n",
    "    0:'Left',\n",
    "    1:'North',\n",
    "    2:'Right',\n",
    "    3:'South'\n",
    "}\n",
    "\n",
    "\n",
    "#Server end point for message communication\n",
    "host_url = 'http://10.10.10.10:5002/update'  \n",
    "\n",
    "#Server endpoint for video communication\n",
    "raspberry_pi_ip = 'http://10.10.10.10:5002/video'\n",
    "\n",
    "#Instanciate the video capture\n",
    "cap = cv2.VideoCapture(raspberry_pi_ip)\n",
    "\n",
    "#Avoid latency and using old frames\n",
    "# cap.set(cv2.CAP_PROP_BUFFERSIZE, 1)\n",
    "\n",
    "\n",
    "a=0\n",
    "print('Start')\n",
    "while a<2:\n",
    "    # Flush old frames\n",
    "    for _ in range(50):\n",
    "        cap.read()\n",
    "\n",
    "    buffer = []\n",
    "    while len(buffer) < 10:\n",
    "        ret, frame = cap.read()\n",
    "        if ret:\n",
    "            buffer.append(frame)\n",
    "\n",
    "    if len(buffer) < 5:\n",
    "        print(\"Not enough good frames.\")\n",
    "        continue\n",
    "\n",
    "    sharpest_frame = get_least_blurry_image(buffer)\n",
    "    cv2.imshow(\"Live feed\", sharpest_frame)\n",
    "\n",
    "    resized = cv2.resize(sharpest_frame, (150, 150))\n",
    "    img_array = np.expand_dims(resized, axis=0)\n",
    "    \n",
    "    start_time = time.time()\n",
    "    prediction = model.predict([img_array, img_array])\n",
    "    end_time = time.time()\n",
    "\n",
    "    predicted_class = np.argmax(prediction[0])\n",
    "    print(f\"Predicted Direction: {direction[predicted_class]} (Inference Time: {end_time - start_time:.2f}s)\")\n",
    "\n",
    "    response = requests.post(host_url, json={'message': str(predicted_class)})\n",
    "    print(\"Message sent\" if response.ok else f\"Error: {response.status_code}\")\n",
    "\n",
    "    if cv2.waitKey(1) & 0xFF == ord('q'):\n",
    "        break\n",
    "\n",
    "    a = a+1\n",
    "\n"
   ]
  },
  {
   "cell_type": "code",
   "execution_count": null,
   "metadata": {},
   "outputs": [
    {
     "name": "stdout",
     "output_type": "stream",
     "text": [
      "-0.2531923209086503\n"
     ]
    }
   ],
   "source": []
  },
  {
   "cell_type": "code",
   "execution_count": null,
   "metadata": {},
   "outputs": [],
   "source": []
  }
 ],
 "metadata": {
  "kernelspec": {
   "display_name": "Python 3",
   "language": "python",
   "name": "python3"
  },
  "language_info": {
   "codemirror_mode": {
    "name": "ipython",
    "version": 3
   },
   "file_extension": ".py",
   "mimetype": "text/x-python",
   "name": "python",
   "nbconvert_exporter": "python",
   "pygments_lexer": "ipython3",
   "version": "3.11.9"
  }
 },
 "nbformat": 4,
 "nbformat_minor": 2
}
