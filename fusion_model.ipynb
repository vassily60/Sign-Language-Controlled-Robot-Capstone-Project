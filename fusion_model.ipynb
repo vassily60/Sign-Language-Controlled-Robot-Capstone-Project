{
 "cells": [
  {
   "cell_type": "code",
   "execution_count": 1,
   "id": "a8dd0223-66c5-4e39-a0ba-d2829a33c157",
   "metadata": {},
   "outputs": [],
   "source": [
    "import tensorflow as tf\n",
    "from tensorflow.keras.models import load_model, Model\n",
    "from tensorflow.keras.layers import Input, Dense, Flatten, concatenate, GlobalAveragePooling2D, multiply\n",
    "import keras\n",
    "from keras import layers\n",
    "import numpy as np\n",
    "from tensorflow.keras.preprocessing import image\n",
    "\n",
    "from sklearn.metrics import confusion_matrix\n"
   ]
  },
  {
   "cell_type": "code",
   "execution_count": 2,
   "id": "4b32f8d9-f0f0-49eb-aed4-ad7a7e567da7",
   "metadata": {},
   "outputs": [],
   "source": [
    "from tensorflow.keras.backend import clear_session\n",
    "\n",
    "clear_session()  # Clears any previous model state\n"
   ]
  },
  {
   "cell_type": "code",
   "execution_count": null,
   "id": "339ed3e9-e09b-4572-8adb-8298d47b3409",
   "metadata": {},
   "outputs": [],
   "source": []
  },
  {
   "cell_type": "code",
   "execution_count": 3,
   "id": "f9d1cc11-0b09-40b5-95be-d6635d32152d",
   "metadata": {
    "scrolled": true
   },
   "outputs": [],
   "source": [
    "# Your SE Block function\n",
    "def se_block(in_block, ch, ratio=16):\n",
    "    # y = GlobalAveragePooling2D()(in_block)\n",
    "    y = Dense(ch // ratio, activation='relu')\n",
    "    y = Dense(ch, activation='sigmoid')(y)\n",
    "    return multiply([in_block, y])\n",
    "\n"
   ]
  },
  {
   "cell_type": "code",
   "execution_count": 4,
   "id": "19f1f2f4-5c8c-4bb7-a7f8-fddbe543eff0",
   "metadata": {},
   "outputs": [],
   "source": [
    "denseNet201 = load_model(\"new1_denseNet201.keras\")\n",
    "vgg16 = load_model(\"new1_vgg16.keras\")"
   ]
  },
  {
   "cell_type": "code",
   "execution_count": null,
   "id": "0cb067a4-45a4-41e7-8018-b57386997191",
   "metadata": {},
   "outputs": [],
   "source": []
  },
  {
   "cell_type": "code",
   "execution_count": 5,
   "id": "5b9e2d87-61d3-496b-a8dc-4800fa0d2214",
   "metadata": {},
   "outputs": [],
   "source": [
    "# Extract feature maps from both models\n",
    "denseNet201_features = denseNet201.output\n",
    "vgg_features = vgg16.output"
   ]
  },
  {
   "cell_type": "code",
   "execution_count": 6,
   "id": "4313ffe9-653c-4f21-b3e1-d4865a02e259",
   "metadata": {},
   "outputs": [],
   "source": [
    "def attention_fusion(input1, input2):\n",
    "    # Concatenate features from both models\n",
    "    fused = concatenate([input1, input2])\n",
    "    \n",
    "    # Fully connected layer to learn attention weights\n",
    "    attention = Dense(fused.shape[-1] // 2, activation='relu', name=\"attention_fc1\")(fused)\n",
    "    attention = Dense(fused.shape[-1], activation='sigmoid', name=\"attention_fc2\")(attention)\n",
    "    \n",
    "    # Apply the attention weights\n",
    "    return multiply([fused, attention])\n",
    "\n",
    "# Apply attention fusion\n",
    "fused_features = attention_fusion(denseNet201_features, vgg_features)\n"
   ]
  },
  {
   "cell_type": "code",
   "execution_count": null,
   "id": "d9975507-7e82-4eb2-a758-0f55d98e19e6",
   "metadata": {},
   "outputs": [],
   "source": []
  },
  {
   "cell_type": "code",
   "execution_count": 7,
   "id": "61c1aad5-9950-4be0-9b84-818917ab9c44",
   "metadata": {},
   "outputs": [
    {
     "data": {
      "text/html": [
       "<pre style=\"white-space:pre;overflow-x:auto;line-height:normal;font-family:Menlo,'DejaVu Sans Mono',consolas,'Courier New',monospace\"><span style=\"font-weight: bold\">Model: \"functional\"</span>\n",
       "</pre>\n"
      ],
      "text/plain": [
       "\u001b[1mModel: \"functional\"\u001b[0m\n"
      ]
     },
     "metadata": {},
     "output_type": "display_data"
    },
    {
     "data": {
      "text/html": [
       "<pre style=\"white-space:pre;overflow-x:auto;line-height:normal;font-family:Menlo,'DejaVu Sans Mono',consolas,'Courier New',monospace\">┏━━━━━━━━━━━━━━━━━━━┳━━━━━━━━━━━━━━━━━┳━━━━━━━━━━━┳━━━━━━━━━━━━━━━━┳━━━━━━━┓\n",
       "┃<span style=\"font-weight: bold\"> Layer (type)      </span>┃<span style=\"font-weight: bold\"> Output Shape    </span>┃<span style=\"font-weight: bold\">   Param # </span>┃<span style=\"font-weight: bold\"> Connected to   </span>┃<span style=\"font-weight: bold\"> Trai… </span>┃\n",
       "┡━━━━━━━━━━━━━━━━━━━╇━━━━━━━━━━━━━━━━━╇━━━━━━━━━━━╇━━━━━━━━━━━━━━━━╇━━━━━━━┩\n",
       "│ input_layer_2     │ (<span style=\"color: #00d7ff; text-decoration-color: #00d7ff\">None</span>, <span style=\"color: #00af00; text-decoration-color: #00af00\">150</span>,     │         <span style=\"color: #00af00; text-decoration-color: #00af00\">0</span> │ -              │   <span style=\"font-weight: bold\">-</span>   │\n",
       "│ (<span style=\"color: #0087ff; text-decoration-color: #0087ff\">InputLayer</span>)      │ <span style=\"color: #00af00; text-decoration-color: #00af00\">150</span>, <span style=\"color: #00af00; text-decoration-color: #00af00\">3</span>)         │           │                │       │\n",
       "├───────────────────┼─────────────────┼───────────┼────────────────┼───────┤\n",
       "│ input_1           │ (<span style=\"color: #00d7ff; text-decoration-color: #00d7ff\">None</span>, <span style=\"color: #00af00; text-decoration-color: #00af00\">150</span>,     │         <span style=\"color: #00af00; text-decoration-color: #00af00\">0</span> │ -              │   <span style=\"font-weight: bold\">-</span>   │\n",
       "│ (<span style=\"color: #0087ff; text-decoration-color: #0087ff\">InputLayer</span>)      │ <span style=\"color: #00af00; text-decoration-color: #00af00\">150</span>, <span style=\"color: #00af00; text-decoration-color: #00af00\">3</span>)         │           │                │       │\n",
       "├───────────────────┼─────────────────┼───────────┼────────────────┼───────┤\n",
       "│ rescaling         │ (<span style=\"color: #00d7ff; text-decoration-color: #00d7ff\">None</span>, <span style=\"color: #00af00; text-decoration-color: #00af00\">150</span>,     │         <span style=\"color: #00af00; text-decoration-color: #00af00\">0</span> │ input_layer_2… │   <span style=\"font-weight: bold\">-</span>   │\n",
       "│ (<span style=\"color: #0087ff; text-decoration-color: #0087ff\">Rescaling</span>)       │ <span style=\"color: #00af00; text-decoration-color: #00af00\">150</span>, <span style=\"color: #00af00; text-decoration-color: #00af00\">3</span>)         │           │                │       │\n",
       "├───────────────────┼─────────────────┼───────────┼────────────────┼───────┤\n",
       "│ rescaling_1       │ (<span style=\"color: #00d7ff; text-decoration-color: #00d7ff\">None</span>, <span style=\"color: #00af00; text-decoration-color: #00af00\">150</span>,     │         <span style=\"color: #00af00; text-decoration-color: #00af00\">0</span> │ input_1[<span style=\"color: #00af00; text-decoration-color: #00af00\">0</span>][<span style=\"color: #00af00; text-decoration-color: #00af00\">0</span>]  │   <span style=\"font-weight: bold\">-</span>   │\n",
       "│ (<span style=\"color: #0087ff; text-decoration-color: #0087ff\">Rescaling</span>)       │ <span style=\"color: #00af00; text-decoration-color: #00af00\">150</span>, <span style=\"color: #00af00; text-decoration-color: #00af00\">3</span>)         │           │                │       │\n",
       "├───────────────────┼─────────────────┼───────────┼────────────────┼───────┤\n",
       "│ densenet201       │ (<span style=\"color: #00d7ff; text-decoration-color: #00d7ff\">None</span>, <span style=\"color: #00af00; text-decoration-color: #00af00\">4</span>, <span style=\"color: #00af00; text-decoration-color: #00af00\">4</span>,    │ <span style=\"color: #00af00; text-decoration-color: #00af00\">18,321,9…</span> │ rescaling[<span style=\"color: #00af00; text-decoration-color: #00af00\">0</span>][<span style=\"color: #00af00; text-decoration-color: #00af00\">…</span> │   <span style=\"color: #ff0000; text-decoration-color: #ff0000; font-weight: bold\">N</span>   │\n",
       "│ (<span style=\"color: #0087ff; text-decoration-color: #0087ff\">Functional</span>)      │ <span style=\"color: #00af00; text-decoration-color: #00af00\">1920</span>)           │           │                │       │\n",
       "├───────────────────┼─────────────────┼───────────┼────────────────┼───────┤\n",
       "│ vgg16             │ (<span style=\"color: #00d7ff; text-decoration-color: #00d7ff\">None</span>, <span style=\"color: #00af00; text-decoration-color: #00af00\">4</span>, <span style=\"color: #00af00; text-decoration-color: #00af00\">4</span>,    │ <span style=\"color: #00af00; text-decoration-color: #00af00\">14,714,6…</span> │ rescaling_1[<span style=\"color: #00af00; text-decoration-color: #00af00\">0</span>… │   <span style=\"color: #ff0000; text-decoration-color: #ff0000; font-weight: bold\">N</span>   │\n",
       "│ (<span style=\"color: #0087ff; text-decoration-color: #0087ff\">Functional</span>)      │ <span style=\"color: #00af00; text-decoration-color: #00af00\">512</span>)            │           │                │       │\n",
       "├───────────────────┼─────────────────┼───────────┼────────────────┼───────┤\n",
       "│ global_average_p… │ (<span style=\"color: #00d7ff; text-decoration-color: #00d7ff\">None</span>, <span style=\"color: #00af00; text-decoration-color: #00af00\">1920</span>)    │         <span style=\"color: #00af00; text-decoration-color: #00af00\">0</span> │ densenet201[<span style=\"color: #00af00; text-decoration-color: #00af00\">0</span>… │   <span style=\"font-weight: bold\">-</span>   │\n",
       "│ (<span style=\"color: #0087ff; text-decoration-color: #0087ff\">GlobalAveragePo…</span> │                 │           │                │       │\n",
       "├───────────────────┼─────────────────┼───────────┼────────────────┼───────┤\n",
       "│ global_average_p… │ (<span style=\"color: #00d7ff; text-decoration-color: #00d7ff\">None</span>, <span style=\"color: #00af00; text-decoration-color: #00af00\">512</span>)     │         <span style=\"color: #00af00; text-decoration-color: #00af00\">0</span> │ vgg16[<span style=\"color: #00af00; text-decoration-color: #00af00\">0</span>][<span style=\"color: #00af00; text-decoration-color: #00af00\">0</span>]    │   <span style=\"font-weight: bold\">-</span>   │\n",
       "│ (<span style=\"color: #0087ff; text-decoration-color: #0087ff\">GlobalAveragePo…</span> │                 │           │                │       │\n",
       "├───────────────────┼─────────────────┼───────────┼────────────────┼───────┤\n",
       "│ dropout (<span style=\"color: #0087ff; text-decoration-color: #0087ff\">Dropout</span>) │ (<span style=\"color: #00d7ff; text-decoration-color: #00d7ff\">None</span>, <span style=\"color: #00af00; text-decoration-color: #00af00\">1920</span>)    │         <span style=\"color: #00af00; text-decoration-color: #00af00\">0</span> │ global_averag… │   <span style=\"font-weight: bold\">-</span>   │\n",
       "├───────────────────┼─────────────────┼───────────┼────────────────┼───────┤\n",
       "│ dropout_3         │ (<span style=\"color: #00d7ff; text-decoration-color: #00d7ff\">None</span>, <span style=\"color: #00af00; text-decoration-color: #00af00\">512</span>)     │         <span style=\"color: #00af00; text-decoration-color: #00af00\">0</span> │ global_averag… │   <span style=\"font-weight: bold\">-</span>   │\n",
       "│ (<span style=\"color: #0087ff; text-decoration-color: #0087ff\">Dropout</span>)         │                 │           │                │       │\n",
       "├───────────────────┼─────────────────┼───────────┼────────────────┼───────┤\n",
       "│ dense (<span style=\"color: #0087ff; text-decoration-color: #0087ff\">Dense</span>)     │ (<span style=\"color: #00d7ff; text-decoration-color: #00d7ff\">None</span>, <span style=\"color: #00af00; text-decoration-color: #00af00\">256</span>)     │   <span style=\"color: #00af00; text-decoration-color: #00af00\">491,776</span> │ dropout[<span style=\"color: #00af00; text-decoration-color: #00af00\">0</span>][<span style=\"color: #00af00; text-decoration-color: #00af00\">0</span>]  │   <span style=\"color: #00af00; text-decoration-color: #00af00; font-weight: bold\">Y</span>   │\n",
       "├───────────────────┼─────────────────┼───────────┼────────────────┼───────┤\n",
       "│ dense_3 (<span style=\"color: #0087ff; text-decoration-color: #0087ff\">Dense</span>)   │ (<span style=\"color: #00d7ff; text-decoration-color: #00d7ff\">None</span>, <span style=\"color: #00af00; text-decoration-color: #00af00\">256</span>)     │   <span style=\"color: #00af00; text-decoration-color: #00af00\">131,328</span> │ dropout_3[<span style=\"color: #00af00; text-decoration-color: #00af00\">0</span>][<span style=\"color: #00af00; text-decoration-color: #00af00\">…</span> │   <span style=\"color: #00af00; text-decoration-color: #00af00; font-weight: bold\">Y</span>   │\n",
       "├───────────────────┼─────────────────┼───────────┼────────────────┼───────┤\n",
       "│ dropout_1         │ (<span style=\"color: #00d7ff; text-decoration-color: #00d7ff\">None</span>, <span style=\"color: #00af00; text-decoration-color: #00af00\">256</span>)     │         <span style=\"color: #00af00; text-decoration-color: #00af00\">0</span> │ dense[<span style=\"color: #00af00; text-decoration-color: #00af00\">0</span>][<span style=\"color: #00af00; text-decoration-color: #00af00\">0</span>]    │   <span style=\"font-weight: bold\">-</span>   │\n",
       "│ (<span style=\"color: #0087ff; text-decoration-color: #0087ff\">Dropout</span>)         │                 │           │                │       │\n",
       "├───────────────────┼─────────────────┼───────────┼────────────────┼───────┤\n",
       "│ dropout_4         │ (<span style=\"color: #00d7ff; text-decoration-color: #00d7ff\">None</span>, <span style=\"color: #00af00; text-decoration-color: #00af00\">256</span>)     │         <span style=\"color: #00af00; text-decoration-color: #00af00\">0</span> │ dense_3[<span style=\"color: #00af00; text-decoration-color: #00af00\">0</span>][<span style=\"color: #00af00; text-decoration-color: #00af00\">0</span>]  │   <span style=\"font-weight: bold\">-</span>   │\n",
       "│ (<span style=\"color: #0087ff; text-decoration-color: #0087ff\">Dropout</span>)         │                 │           │                │       │\n",
       "├───────────────────┼─────────────────┼───────────┼────────────────┼───────┤\n",
       "│ concatenate       │ (<span style=\"color: #00d7ff; text-decoration-color: #00d7ff\">None</span>, <span style=\"color: #00af00; text-decoration-color: #00af00\">512</span>)     │         <span style=\"color: #00af00; text-decoration-color: #00af00\">0</span> │ dropout_1[<span style=\"color: #00af00; text-decoration-color: #00af00\">0</span>][<span style=\"color: #00af00; text-decoration-color: #00af00\">…</span> │   <span style=\"font-weight: bold\">-</span>   │\n",
       "│ (<span style=\"color: #0087ff; text-decoration-color: #0087ff\">Concatenate</span>)     │                 │           │ dropout_4[<span style=\"color: #00af00; text-decoration-color: #00af00\">0</span>][<span style=\"color: #00af00; text-decoration-color: #00af00\">…</span> │       │\n",
       "├───────────────────┼─────────────────┼───────────┼────────────────┼───────┤\n",
       "│ attention_fc1     │ (<span style=\"color: #00d7ff; text-decoration-color: #00d7ff\">None</span>, <span style=\"color: #00af00; text-decoration-color: #00af00\">256</span>)     │   <span style=\"color: #00af00; text-decoration-color: #00af00\">131,328</span> │ concatenate[<span style=\"color: #00af00; text-decoration-color: #00af00\">0</span>… │   <span style=\"color: #00af00; text-decoration-color: #00af00; font-weight: bold\">Y</span>   │\n",
       "│ (<span style=\"color: #0087ff; text-decoration-color: #0087ff\">Dense</span>)           │                 │           │                │       │\n",
       "├───────────────────┼─────────────────┼───────────┼────────────────┼───────┤\n",
       "│ attention_fc2     │ (<span style=\"color: #00d7ff; text-decoration-color: #00d7ff\">None</span>, <span style=\"color: #00af00; text-decoration-color: #00af00\">512</span>)     │   <span style=\"color: #00af00; text-decoration-color: #00af00\">131,584</span> │ attention_fc1… │   <span style=\"color: #00af00; text-decoration-color: #00af00; font-weight: bold\">Y</span>   │\n",
       "│ (<span style=\"color: #0087ff; text-decoration-color: #0087ff\">Dense</span>)           │                 │           │                │       │\n",
       "├───────────────────┼─────────────────┼───────────┼────────────────┼───────┤\n",
       "│ multiply          │ (<span style=\"color: #00d7ff; text-decoration-color: #00d7ff\">None</span>, <span style=\"color: #00af00; text-decoration-color: #00af00\">512</span>)     │         <span style=\"color: #00af00; text-decoration-color: #00af00\">0</span> │ concatenate[<span style=\"color: #00af00; text-decoration-color: #00af00\">0</span>… │   <span style=\"font-weight: bold\">-</span>   │\n",
       "│ (<span style=\"color: #0087ff; text-decoration-color: #0087ff\">Multiply</span>)        │                 │           │ attention_fc2… │       │\n",
       "├───────────────────┼─────────────────┼───────────┼────────────────┼───────┤\n",
       "│ final_dense_layer │ (<span style=\"color: #00d7ff; text-decoration-color: #00d7ff\">None</span>, <span style=\"color: #00af00; text-decoration-color: #00af00\">4</span>)       │     <span style=\"color: #00af00; text-decoration-color: #00af00\">2,052</span> │ multiply[<span style=\"color: #00af00; text-decoration-color: #00af00\">0</span>][<span style=\"color: #00af00; text-decoration-color: #00af00\">0</span>] │   <span style=\"color: #00af00; text-decoration-color: #00af00; font-weight: bold\">Y</span>   │\n",
       "│ (<span style=\"color: #0087ff; text-decoration-color: #0087ff\">Dense</span>)           │                 │           │                │       │\n",
       "└───────────────────┴─────────────────┴───────────┴────────────────┴───────┘\n",
       "</pre>\n"
      ],
      "text/plain": [
       "┏━━━━━━━━━━━━━━━━━━━┳━━━━━━━━━━━━━━━━━┳━━━━━━━━━━━┳━━━━━━━━━━━━━━━━┳━━━━━━━┓\n",
       "┃\u001b[1m \u001b[0m\u001b[1mLayer (type)     \u001b[0m\u001b[1m \u001b[0m┃\u001b[1m \u001b[0m\u001b[1mOutput Shape   \u001b[0m\u001b[1m \u001b[0m┃\u001b[1m \u001b[0m\u001b[1m  Param #\u001b[0m\u001b[1m \u001b[0m┃\u001b[1m \u001b[0m\u001b[1mConnected to  \u001b[0m\u001b[1m \u001b[0m┃\u001b[1m \u001b[0m\u001b[1mTrai…\u001b[0m\u001b[1m \u001b[0m┃\n",
       "┡━━━━━━━━━━━━━━━━━━━╇━━━━━━━━━━━━━━━━━╇━━━━━━━━━━━╇━━━━━━━━━━━━━━━━╇━━━━━━━┩\n",
       "│ input_layer_2     │ (\u001b[38;5;45mNone\u001b[0m, \u001b[38;5;34m150\u001b[0m,     │         \u001b[38;5;34m0\u001b[0m │ -              │   \u001b[1m-\u001b[0m   │\n",
       "│ (\u001b[38;5;33mInputLayer\u001b[0m)      │ \u001b[38;5;34m150\u001b[0m, \u001b[38;5;34m3\u001b[0m)         │           │                │       │\n",
       "├───────────────────┼─────────────────┼───────────┼────────────────┼───────┤\n",
       "│ input_1           │ (\u001b[38;5;45mNone\u001b[0m, \u001b[38;5;34m150\u001b[0m,     │         \u001b[38;5;34m0\u001b[0m │ -              │   \u001b[1m-\u001b[0m   │\n",
       "│ (\u001b[38;5;33mInputLayer\u001b[0m)      │ \u001b[38;5;34m150\u001b[0m, \u001b[38;5;34m3\u001b[0m)         │           │                │       │\n",
       "├───────────────────┼─────────────────┼───────────┼────────────────┼───────┤\n",
       "│ rescaling         │ (\u001b[38;5;45mNone\u001b[0m, \u001b[38;5;34m150\u001b[0m,     │         \u001b[38;5;34m0\u001b[0m │ input_layer_2… │   \u001b[1m-\u001b[0m   │\n",
       "│ (\u001b[38;5;33mRescaling\u001b[0m)       │ \u001b[38;5;34m150\u001b[0m, \u001b[38;5;34m3\u001b[0m)         │           │                │       │\n",
       "├───────────────────┼─────────────────┼───────────┼────────────────┼───────┤\n",
       "│ rescaling_1       │ (\u001b[38;5;45mNone\u001b[0m, \u001b[38;5;34m150\u001b[0m,     │         \u001b[38;5;34m0\u001b[0m │ input_1[\u001b[38;5;34m0\u001b[0m][\u001b[38;5;34m0\u001b[0m]  │   \u001b[1m-\u001b[0m   │\n",
       "│ (\u001b[38;5;33mRescaling\u001b[0m)       │ \u001b[38;5;34m150\u001b[0m, \u001b[38;5;34m3\u001b[0m)         │           │                │       │\n",
       "├───────────────────┼─────────────────┼───────────┼────────────────┼───────┤\n",
       "│ densenet201       │ (\u001b[38;5;45mNone\u001b[0m, \u001b[38;5;34m4\u001b[0m, \u001b[38;5;34m4\u001b[0m,    │ \u001b[38;5;34m18,321,9…\u001b[0m │ rescaling[\u001b[38;5;34m0\u001b[0m][\u001b[38;5;34m…\u001b[0m │   \u001b[1;91mN\u001b[0m   │\n",
       "│ (\u001b[38;5;33mFunctional\u001b[0m)      │ \u001b[38;5;34m1920\u001b[0m)           │           │                │       │\n",
       "├───────────────────┼─────────────────┼───────────┼────────────────┼───────┤\n",
       "│ vgg16             │ (\u001b[38;5;45mNone\u001b[0m, \u001b[38;5;34m4\u001b[0m, \u001b[38;5;34m4\u001b[0m,    │ \u001b[38;5;34m14,714,6…\u001b[0m │ rescaling_1[\u001b[38;5;34m0\u001b[0m… │   \u001b[1;91mN\u001b[0m   │\n",
       "│ (\u001b[38;5;33mFunctional\u001b[0m)      │ \u001b[38;5;34m512\u001b[0m)            │           │                │       │\n",
       "├───────────────────┼─────────────────┼───────────┼────────────────┼───────┤\n",
       "│ global_average_p… │ (\u001b[38;5;45mNone\u001b[0m, \u001b[38;5;34m1920\u001b[0m)    │         \u001b[38;5;34m0\u001b[0m │ densenet201[\u001b[38;5;34m0\u001b[0m… │   \u001b[1m-\u001b[0m   │\n",
       "│ (\u001b[38;5;33mGlobalAveragePo…\u001b[0m │                 │           │                │       │\n",
       "├───────────────────┼─────────────────┼───────────┼────────────────┼───────┤\n",
       "│ global_average_p… │ (\u001b[38;5;45mNone\u001b[0m, \u001b[38;5;34m512\u001b[0m)     │         \u001b[38;5;34m0\u001b[0m │ vgg16[\u001b[38;5;34m0\u001b[0m][\u001b[38;5;34m0\u001b[0m]    │   \u001b[1m-\u001b[0m   │\n",
       "│ (\u001b[38;5;33mGlobalAveragePo…\u001b[0m │                 │           │                │       │\n",
       "├───────────────────┼─────────────────┼───────────┼────────────────┼───────┤\n",
       "│ dropout (\u001b[38;5;33mDropout\u001b[0m) │ (\u001b[38;5;45mNone\u001b[0m, \u001b[38;5;34m1920\u001b[0m)    │         \u001b[38;5;34m0\u001b[0m │ global_averag… │   \u001b[1m-\u001b[0m   │\n",
       "├───────────────────┼─────────────────┼───────────┼────────────────┼───────┤\n",
       "│ dropout_3         │ (\u001b[38;5;45mNone\u001b[0m, \u001b[38;5;34m512\u001b[0m)     │         \u001b[38;5;34m0\u001b[0m │ global_averag… │   \u001b[1m-\u001b[0m   │\n",
       "│ (\u001b[38;5;33mDropout\u001b[0m)         │                 │           │                │       │\n",
       "├───────────────────┼─────────────────┼───────────┼────────────────┼───────┤\n",
       "│ dense (\u001b[38;5;33mDense\u001b[0m)     │ (\u001b[38;5;45mNone\u001b[0m, \u001b[38;5;34m256\u001b[0m)     │   \u001b[38;5;34m491,776\u001b[0m │ dropout[\u001b[38;5;34m0\u001b[0m][\u001b[38;5;34m0\u001b[0m]  │   \u001b[1;38;5;34mY\u001b[0m   │\n",
       "├───────────────────┼─────────────────┼───────────┼────────────────┼───────┤\n",
       "│ dense_3 (\u001b[38;5;33mDense\u001b[0m)   │ (\u001b[38;5;45mNone\u001b[0m, \u001b[38;5;34m256\u001b[0m)     │   \u001b[38;5;34m131,328\u001b[0m │ dropout_3[\u001b[38;5;34m0\u001b[0m][\u001b[38;5;34m…\u001b[0m │   \u001b[1;38;5;34mY\u001b[0m   │\n",
       "├───────────────────┼─────────────────┼───────────┼────────────────┼───────┤\n",
       "│ dropout_1         │ (\u001b[38;5;45mNone\u001b[0m, \u001b[38;5;34m256\u001b[0m)     │         \u001b[38;5;34m0\u001b[0m │ dense[\u001b[38;5;34m0\u001b[0m][\u001b[38;5;34m0\u001b[0m]    │   \u001b[1m-\u001b[0m   │\n",
       "│ (\u001b[38;5;33mDropout\u001b[0m)         │                 │           │                │       │\n",
       "├───────────────────┼─────────────────┼───────────┼────────────────┼───────┤\n",
       "│ dropout_4         │ (\u001b[38;5;45mNone\u001b[0m, \u001b[38;5;34m256\u001b[0m)     │         \u001b[38;5;34m0\u001b[0m │ dense_3[\u001b[38;5;34m0\u001b[0m][\u001b[38;5;34m0\u001b[0m]  │   \u001b[1m-\u001b[0m   │\n",
       "│ (\u001b[38;5;33mDropout\u001b[0m)         │                 │           │                │       │\n",
       "├───────────────────┼─────────────────┼───────────┼────────────────┼───────┤\n",
       "│ concatenate       │ (\u001b[38;5;45mNone\u001b[0m, \u001b[38;5;34m512\u001b[0m)     │         \u001b[38;5;34m0\u001b[0m │ dropout_1[\u001b[38;5;34m0\u001b[0m][\u001b[38;5;34m…\u001b[0m │   \u001b[1m-\u001b[0m   │\n",
       "│ (\u001b[38;5;33mConcatenate\u001b[0m)     │                 │           │ dropout_4[\u001b[38;5;34m0\u001b[0m][\u001b[38;5;34m…\u001b[0m │       │\n",
       "├───────────────────┼─────────────────┼───────────┼────────────────┼───────┤\n",
       "│ attention_fc1     │ (\u001b[38;5;45mNone\u001b[0m, \u001b[38;5;34m256\u001b[0m)     │   \u001b[38;5;34m131,328\u001b[0m │ concatenate[\u001b[38;5;34m0\u001b[0m… │   \u001b[1;38;5;34mY\u001b[0m   │\n",
       "│ (\u001b[38;5;33mDense\u001b[0m)           │                 │           │                │       │\n",
       "├───────────────────┼─────────────────┼───────────┼────────────────┼───────┤\n",
       "│ attention_fc2     │ (\u001b[38;5;45mNone\u001b[0m, \u001b[38;5;34m512\u001b[0m)     │   \u001b[38;5;34m131,584\u001b[0m │ attention_fc1… │   \u001b[1;38;5;34mY\u001b[0m   │\n",
       "│ (\u001b[38;5;33mDense\u001b[0m)           │                 │           │                │       │\n",
       "├───────────────────┼─────────────────┼───────────┼────────────────┼───────┤\n",
       "│ multiply          │ (\u001b[38;5;45mNone\u001b[0m, \u001b[38;5;34m512\u001b[0m)     │         \u001b[38;5;34m0\u001b[0m │ concatenate[\u001b[38;5;34m0\u001b[0m… │   \u001b[1m-\u001b[0m   │\n",
       "│ (\u001b[38;5;33mMultiply\u001b[0m)        │                 │           │ attention_fc2… │       │\n",
       "├───────────────────┼─────────────────┼───────────┼────────────────┼───────┤\n",
       "│ final_dense_layer │ (\u001b[38;5;45mNone\u001b[0m, \u001b[38;5;34m4\u001b[0m)       │     \u001b[38;5;34m2,052\u001b[0m │ multiply[\u001b[38;5;34m0\u001b[0m][\u001b[38;5;34m0\u001b[0m] │   \u001b[1;38;5;34mY\u001b[0m   │\n",
       "│ (\u001b[38;5;33mDense\u001b[0m)           │                 │           │                │       │\n",
       "└───────────────────┴─────────────────┴───────────┴────────────────┴───────┘\n"
      ]
     },
     "metadata": {},
     "output_type": "display_data"
    },
    {
     "data": {
      "text/html": [
       "<pre style=\"white-space:pre;overflow-x:auto;line-height:normal;font-family:Menlo,'DejaVu Sans Mono',consolas,'Courier New',monospace\"><span style=\"font-weight: bold\"> Total params: </span><span style=\"color: #00af00; text-decoration-color: #00af00\">33,924,740</span> (129.41 MB)\n",
       "</pre>\n"
      ],
      "text/plain": [
       "\u001b[1m Total params: \u001b[0m\u001b[38;5;34m33,924,740\u001b[0m (129.41 MB)\n"
      ]
     },
     "metadata": {},
     "output_type": "display_data"
    },
    {
     "data": {
      "text/html": [
       "<pre style=\"white-space:pre;overflow-x:auto;line-height:normal;font-family:Menlo,'DejaVu Sans Mono',consolas,'Courier New',monospace\"><span style=\"font-weight: bold\"> Trainable params: </span><span style=\"color: #00af00; text-decoration-color: #00af00\">888,068</span> (3.39 MB)\n",
       "</pre>\n"
      ],
      "text/plain": [
       "\u001b[1m Trainable params: \u001b[0m\u001b[38;5;34m888,068\u001b[0m (3.39 MB)\n"
      ]
     },
     "metadata": {},
     "output_type": "display_data"
    },
    {
     "data": {
      "text/html": [
       "<pre style=\"white-space:pre;overflow-x:auto;line-height:normal;font-family:Menlo,'DejaVu Sans Mono',consolas,'Courier New',monospace\"><span style=\"font-weight: bold\"> Non-trainable params: </span><span style=\"color: #00af00; text-decoration-color: #00af00\">33,036,672</span> (126.02 MB)\n",
       "</pre>\n"
      ],
      "text/plain": [
       "\u001b[1m Non-trainable params: \u001b[0m\u001b[38;5;34m33,036,672\u001b[0m (126.02 MB)\n"
      ]
     },
     "metadata": {},
     "output_type": "display_data"
    }
   ],
   "source": [
    "# Add a final Dense layer for classification\n",
    "\n",
    "output = Dense(4, activation='softmax', name=\"final_dense_layer\")(fused_features) \n",
    "\n",
    "\n",
    "# Define the final model\n",
    "fusion_model = Model(inputs=[denseNet201.input, vgg16.input], outputs=output)\n",
    "\n",
    "\n",
    "# Print model summary\n",
    "\n",
    "fusion_model.summary(show_trainable=True)"
   ]
  },
  {
   "cell_type": "code",
   "execution_count": null,
   "id": "2fc44348-b64b-4d39-b514-ac8a036e76e7",
   "metadata": {},
   "outputs": [],
   "source": []
  },
  {
   "cell_type": "code",
   "execution_count": null,
   "id": "11c4b998-c5f1-4976-92b6-a5f67dcb23fa",
   "metadata": {},
   "outputs": [],
   "source": []
  },
  {
   "cell_type": "code",
   "execution_count": 8,
   "id": "b11d4ebc-93a3-4e8a-86a1-97c5a4fae442",
   "metadata": {},
   "outputs": [
    {
     "data": {
      "text/html": [
       "<pre style=\"white-space:pre;overflow-x:auto;line-height:normal;font-family:Menlo,'DejaVu Sans Mono',consolas,'Courier New',monospace\"><span style=\"font-weight: bold\">Model: \"functional\"</span>\n",
       "</pre>\n"
      ],
      "text/plain": [
       "\u001b[1mModel: \"functional\"\u001b[0m\n"
      ]
     },
     "metadata": {},
     "output_type": "display_data"
    },
    {
     "data": {
      "text/html": [
       "<pre style=\"white-space:pre;overflow-x:auto;line-height:normal;font-family:Menlo,'DejaVu Sans Mono',consolas,'Courier New',monospace\">┏━━━━━━━━━━━━━━━━━━━┳━━━━━━━━━━━━━━━━━┳━━━━━━━━━━━┳━━━━━━━━━━━━━━━━┳━━━━━━━┓\n",
       "┃<span style=\"font-weight: bold\"> Layer (type)      </span>┃<span style=\"font-weight: bold\"> Output Shape    </span>┃<span style=\"font-weight: bold\">   Param # </span>┃<span style=\"font-weight: bold\"> Connected to   </span>┃<span style=\"font-weight: bold\"> Trai… </span>┃\n",
       "┡━━━━━━━━━━━━━━━━━━━╇━━━━━━━━━━━━━━━━━╇━━━━━━━━━━━╇━━━━━━━━━━━━━━━━╇━━━━━━━┩\n",
       "│ input_layer_2     │ (<span style=\"color: #00d7ff; text-decoration-color: #00d7ff\">None</span>, <span style=\"color: #00af00; text-decoration-color: #00af00\">150</span>,     │         <span style=\"color: #00af00; text-decoration-color: #00af00\">0</span> │ -              │   <span style=\"font-weight: bold\">-</span>   │\n",
       "│ (<span style=\"color: #0087ff; text-decoration-color: #0087ff\">InputLayer</span>)      │ <span style=\"color: #00af00; text-decoration-color: #00af00\">150</span>, <span style=\"color: #00af00; text-decoration-color: #00af00\">3</span>)         │           │                │       │\n",
       "├───────────────────┼─────────────────┼───────────┼────────────────┼───────┤\n",
       "│ input_1           │ (<span style=\"color: #00d7ff; text-decoration-color: #00d7ff\">None</span>, <span style=\"color: #00af00; text-decoration-color: #00af00\">150</span>,     │         <span style=\"color: #00af00; text-decoration-color: #00af00\">0</span> │ -              │   <span style=\"font-weight: bold\">-</span>   │\n",
       "│ (<span style=\"color: #0087ff; text-decoration-color: #0087ff\">InputLayer</span>)      │ <span style=\"color: #00af00; text-decoration-color: #00af00\">150</span>, <span style=\"color: #00af00; text-decoration-color: #00af00\">3</span>)         │           │                │       │\n",
       "├───────────────────┼─────────────────┼───────────┼────────────────┼───────┤\n",
       "│ rescaling         │ (<span style=\"color: #00d7ff; text-decoration-color: #00d7ff\">None</span>, <span style=\"color: #00af00; text-decoration-color: #00af00\">150</span>,     │         <span style=\"color: #00af00; text-decoration-color: #00af00\">0</span> │ input_layer_2… │   <span style=\"font-weight: bold\">-</span>   │\n",
       "│ (<span style=\"color: #0087ff; text-decoration-color: #0087ff\">Rescaling</span>)       │ <span style=\"color: #00af00; text-decoration-color: #00af00\">150</span>, <span style=\"color: #00af00; text-decoration-color: #00af00\">3</span>)         │           │                │       │\n",
       "├───────────────────┼─────────────────┼───────────┼────────────────┼───────┤\n",
       "│ rescaling_1       │ (<span style=\"color: #00d7ff; text-decoration-color: #00d7ff\">None</span>, <span style=\"color: #00af00; text-decoration-color: #00af00\">150</span>,     │         <span style=\"color: #00af00; text-decoration-color: #00af00\">0</span> │ input_1[<span style=\"color: #00af00; text-decoration-color: #00af00\">0</span>][<span style=\"color: #00af00; text-decoration-color: #00af00\">0</span>]  │   <span style=\"font-weight: bold\">-</span>   │\n",
       "│ (<span style=\"color: #0087ff; text-decoration-color: #0087ff\">Rescaling</span>)       │ <span style=\"color: #00af00; text-decoration-color: #00af00\">150</span>, <span style=\"color: #00af00; text-decoration-color: #00af00\">3</span>)         │           │                │       │\n",
       "├───────────────────┼─────────────────┼───────────┼────────────────┼───────┤\n",
       "│ densenet201       │ (<span style=\"color: #00d7ff; text-decoration-color: #00d7ff\">None</span>, <span style=\"color: #00af00; text-decoration-color: #00af00\">4</span>, <span style=\"color: #00af00; text-decoration-color: #00af00\">4</span>,    │ <span style=\"color: #00af00; text-decoration-color: #00af00\">18,321,9…</span> │ rescaling[<span style=\"color: #00af00; text-decoration-color: #00af00\">0</span>][<span style=\"color: #00af00; text-decoration-color: #00af00\">…</span> │   <span style=\"color: #ff0000; text-decoration-color: #ff0000; font-weight: bold\">N</span>   │\n",
       "│ (<span style=\"color: #0087ff; text-decoration-color: #0087ff\">Functional</span>)      │ <span style=\"color: #00af00; text-decoration-color: #00af00\">1920</span>)           │           │                │       │\n",
       "├───────────────────┼─────────────────┼───────────┼────────────────┼───────┤\n",
       "│ vgg16             │ (<span style=\"color: #00d7ff; text-decoration-color: #00d7ff\">None</span>, <span style=\"color: #00af00; text-decoration-color: #00af00\">4</span>, <span style=\"color: #00af00; text-decoration-color: #00af00\">4</span>,    │ <span style=\"color: #00af00; text-decoration-color: #00af00\">14,714,6…</span> │ rescaling_1[<span style=\"color: #00af00; text-decoration-color: #00af00\">0</span>… │   <span style=\"color: #ff0000; text-decoration-color: #ff0000; font-weight: bold\">N</span>   │\n",
       "│ (<span style=\"color: #0087ff; text-decoration-color: #0087ff\">Functional</span>)      │ <span style=\"color: #00af00; text-decoration-color: #00af00\">512</span>)            │           │                │       │\n",
       "├───────────────────┼─────────────────┼───────────┼────────────────┼───────┤\n",
       "│ global_average_p… │ (<span style=\"color: #00d7ff; text-decoration-color: #00d7ff\">None</span>, <span style=\"color: #00af00; text-decoration-color: #00af00\">1920</span>)    │         <span style=\"color: #00af00; text-decoration-color: #00af00\">0</span> │ densenet201[<span style=\"color: #00af00; text-decoration-color: #00af00\">0</span>… │   <span style=\"font-weight: bold\">-</span>   │\n",
       "│ (<span style=\"color: #0087ff; text-decoration-color: #0087ff\">GlobalAveragePo…</span> │                 │           │                │       │\n",
       "├───────────────────┼─────────────────┼───────────┼────────────────┼───────┤\n",
       "│ global_average_p… │ (<span style=\"color: #00d7ff; text-decoration-color: #00d7ff\">None</span>, <span style=\"color: #00af00; text-decoration-color: #00af00\">512</span>)     │         <span style=\"color: #00af00; text-decoration-color: #00af00\">0</span> │ vgg16[<span style=\"color: #00af00; text-decoration-color: #00af00\">0</span>][<span style=\"color: #00af00; text-decoration-color: #00af00\">0</span>]    │   <span style=\"font-weight: bold\">-</span>   │\n",
       "│ (<span style=\"color: #0087ff; text-decoration-color: #0087ff\">GlobalAveragePo…</span> │                 │           │                │       │\n",
       "├───────────────────┼─────────────────┼───────────┼────────────────┼───────┤\n",
       "│ dropout (<span style=\"color: #0087ff; text-decoration-color: #0087ff\">Dropout</span>) │ (<span style=\"color: #00d7ff; text-decoration-color: #00d7ff\">None</span>, <span style=\"color: #00af00; text-decoration-color: #00af00\">1920</span>)    │         <span style=\"color: #00af00; text-decoration-color: #00af00\">0</span> │ global_averag… │   <span style=\"font-weight: bold\">-</span>   │\n",
       "├───────────────────┼─────────────────┼───────────┼────────────────┼───────┤\n",
       "│ dropout_3         │ (<span style=\"color: #00d7ff; text-decoration-color: #00d7ff\">None</span>, <span style=\"color: #00af00; text-decoration-color: #00af00\">512</span>)     │         <span style=\"color: #00af00; text-decoration-color: #00af00\">0</span> │ global_averag… │   <span style=\"font-weight: bold\">-</span>   │\n",
       "│ (<span style=\"color: #0087ff; text-decoration-color: #0087ff\">Dropout</span>)         │                 │           │                │       │\n",
       "├───────────────────┼─────────────────┼───────────┼────────────────┼───────┤\n",
       "│ dense (<span style=\"color: #0087ff; text-decoration-color: #0087ff\">Dense</span>)     │ (<span style=\"color: #00d7ff; text-decoration-color: #00d7ff\">None</span>, <span style=\"color: #00af00; text-decoration-color: #00af00\">256</span>)     │   <span style=\"color: #00af00; text-decoration-color: #00af00\">491,776</span> │ dropout[<span style=\"color: #00af00; text-decoration-color: #00af00\">0</span>][<span style=\"color: #00af00; text-decoration-color: #00af00\">0</span>]  │   <span style=\"color: #00af00; text-decoration-color: #00af00; font-weight: bold\">Y</span>   │\n",
       "├───────────────────┼─────────────────┼───────────┼────────────────┼───────┤\n",
       "│ dense_3 (<span style=\"color: #0087ff; text-decoration-color: #0087ff\">Dense</span>)   │ (<span style=\"color: #00d7ff; text-decoration-color: #00d7ff\">None</span>, <span style=\"color: #00af00; text-decoration-color: #00af00\">256</span>)     │   <span style=\"color: #00af00; text-decoration-color: #00af00\">131,328</span> │ dropout_3[<span style=\"color: #00af00; text-decoration-color: #00af00\">0</span>][<span style=\"color: #00af00; text-decoration-color: #00af00\">…</span> │   <span style=\"color: #00af00; text-decoration-color: #00af00; font-weight: bold\">Y</span>   │\n",
       "├───────────────────┼─────────────────┼───────────┼────────────────┼───────┤\n",
       "│ dropout_1         │ (<span style=\"color: #00d7ff; text-decoration-color: #00d7ff\">None</span>, <span style=\"color: #00af00; text-decoration-color: #00af00\">256</span>)     │         <span style=\"color: #00af00; text-decoration-color: #00af00\">0</span> │ dense[<span style=\"color: #00af00; text-decoration-color: #00af00\">0</span>][<span style=\"color: #00af00; text-decoration-color: #00af00\">0</span>]    │   <span style=\"font-weight: bold\">-</span>   │\n",
       "│ (<span style=\"color: #0087ff; text-decoration-color: #0087ff\">Dropout</span>)         │                 │           │                │       │\n",
       "├───────────────────┼─────────────────┼───────────┼────────────────┼───────┤\n",
       "│ dropout_4         │ (<span style=\"color: #00d7ff; text-decoration-color: #00d7ff\">None</span>, <span style=\"color: #00af00; text-decoration-color: #00af00\">256</span>)     │         <span style=\"color: #00af00; text-decoration-color: #00af00\">0</span> │ dense_3[<span style=\"color: #00af00; text-decoration-color: #00af00\">0</span>][<span style=\"color: #00af00; text-decoration-color: #00af00\">0</span>]  │   <span style=\"font-weight: bold\">-</span>   │\n",
       "│ (<span style=\"color: #0087ff; text-decoration-color: #0087ff\">Dropout</span>)         │                 │           │                │       │\n",
       "├───────────────────┼─────────────────┼───────────┼────────────────┼───────┤\n",
       "│ concatenate       │ (<span style=\"color: #00d7ff; text-decoration-color: #00d7ff\">None</span>, <span style=\"color: #00af00; text-decoration-color: #00af00\">512</span>)     │         <span style=\"color: #00af00; text-decoration-color: #00af00\">0</span> │ dropout_1[<span style=\"color: #00af00; text-decoration-color: #00af00\">0</span>][<span style=\"color: #00af00; text-decoration-color: #00af00\">…</span> │   <span style=\"font-weight: bold\">-</span>   │\n",
       "│ (<span style=\"color: #0087ff; text-decoration-color: #0087ff\">Concatenate</span>)     │                 │           │ dropout_4[<span style=\"color: #00af00; text-decoration-color: #00af00\">0</span>][<span style=\"color: #00af00; text-decoration-color: #00af00\">…</span> │       │\n",
       "├───────────────────┼─────────────────┼───────────┼────────────────┼───────┤\n",
       "│ attention_fc1     │ (<span style=\"color: #00d7ff; text-decoration-color: #00d7ff\">None</span>, <span style=\"color: #00af00; text-decoration-color: #00af00\">256</span>)     │   <span style=\"color: #00af00; text-decoration-color: #00af00\">131,328</span> │ concatenate[<span style=\"color: #00af00; text-decoration-color: #00af00\">0</span>… │   <span style=\"color: #00af00; text-decoration-color: #00af00; font-weight: bold\">Y</span>   │\n",
       "│ (<span style=\"color: #0087ff; text-decoration-color: #0087ff\">Dense</span>)           │                 │           │                │       │\n",
       "├───────────────────┼─────────────────┼───────────┼────────────────┼───────┤\n",
       "│ attention_fc2     │ (<span style=\"color: #00d7ff; text-decoration-color: #00d7ff\">None</span>, <span style=\"color: #00af00; text-decoration-color: #00af00\">512</span>)     │   <span style=\"color: #00af00; text-decoration-color: #00af00\">131,584</span> │ attention_fc1… │   <span style=\"color: #00af00; text-decoration-color: #00af00; font-weight: bold\">Y</span>   │\n",
       "│ (<span style=\"color: #0087ff; text-decoration-color: #0087ff\">Dense</span>)           │                 │           │                │       │\n",
       "├───────────────────┼─────────────────┼───────────┼────────────────┼───────┤\n",
       "│ multiply          │ (<span style=\"color: #00d7ff; text-decoration-color: #00d7ff\">None</span>, <span style=\"color: #00af00; text-decoration-color: #00af00\">512</span>)     │         <span style=\"color: #00af00; text-decoration-color: #00af00\">0</span> │ concatenate[<span style=\"color: #00af00; text-decoration-color: #00af00\">0</span>… │   <span style=\"font-weight: bold\">-</span>   │\n",
       "│ (<span style=\"color: #0087ff; text-decoration-color: #0087ff\">Multiply</span>)        │                 │           │ attention_fc2… │       │\n",
       "├───────────────────┼─────────────────┼───────────┼────────────────┼───────┤\n",
       "│ final_dense_layer │ (<span style=\"color: #00d7ff; text-decoration-color: #00d7ff\">None</span>, <span style=\"color: #00af00; text-decoration-color: #00af00\">4</span>)       │     <span style=\"color: #00af00; text-decoration-color: #00af00\">2,052</span> │ multiply[<span style=\"color: #00af00; text-decoration-color: #00af00\">0</span>][<span style=\"color: #00af00; text-decoration-color: #00af00\">0</span>] │   <span style=\"color: #00af00; text-decoration-color: #00af00; font-weight: bold\">Y</span>   │\n",
       "│ (<span style=\"color: #0087ff; text-decoration-color: #0087ff\">Dense</span>)           │                 │           │                │       │\n",
       "└───────────────────┴─────────────────┴───────────┴────────────────┴───────┘\n",
       "</pre>\n"
      ],
      "text/plain": [
       "┏━━━━━━━━━━━━━━━━━━━┳━━━━━━━━━━━━━━━━━┳━━━━━━━━━━━┳━━━━━━━━━━━━━━━━┳━━━━━━━┓\n",
       "┃\u001b[1m \u001b[0m\u001b[1mLayer (type)     \u001b[0m\u001b[1m \u001b[0m┃\u001b[1m \u001b[0m\u001b[1mOutput Shape   \u001b[0m\u001b[1m \u001b[0m┃\u001b[1m \u001b[0m\u001b[1m  Param #\u001b[0m\u001b[1m \u001b[0m┃\u001b[1m \u001b[0m\u001b[1mConnected to  \u001b[0m\u001b[1m \u001b[0m┃\u001b[1m \u001b[0m\u001b[1mTrai…\u001b[0m\u001b[1m \u001b[0m┃\n",
       "┡━━━━━━━━━━━━━━━━━━━╇━━━━━━━━━━━━━━━━━╇━━━━━━━━━━━╇━━━━━━━━━━━━━━━━╇━━━━━━━┩\n",
       "│ input_layer_2     │ (\u001b[38;5;45mNone\u001b[0m, \u001b[38;5;34m150\u001b[0m,     │         \u001b[38;5;34m0\u001b[0m │ -              │   \u001b[1m-\u001b[0m   │\n",
       "│ (\u001b[38;5;33mInputLayer\u001b[0m)      │ \u001b[38;5;34m150\u001b[0m, \u001b[38;5;34m3\u001b[0m)         │           │                │       │\n",
       "├───────────────────┼─────────────────┼───────────┼────────────────┼───────┤\n",
       "│ input_1           │ (\u001b[38;5;45mNone\u001b[0m, \u001b[38;5;34m150\u001b[0m,     │         \u001b[38;5;34m0\u001b[0m │ -              │   \u001b[1m-\u001b[0m   │\n",
       "│ (\u001b[38;5;33mInputLayer\u001b[0m)      │ \u001b[38;5;34m150\u001b[0m, \u001b[38;5;34m3\u001b[0m)         │           │                │       │\n",
       "├───────────────────┼─────────────────┼───────────┼────────────────┼───────┤\n",
       "│ rescaling         │ (\u001b[38;5;45mNone\u001b[0m, \u001b[38;5;34m150\u001b[0m,     │         \u001b[38;5;34m0\u001b[0m │ input_layer_2… │   \u001b[1m-\u001b[0m   │\n",
       "│ (\u001b[38;5;33mRescaling\u001b[0m)       │ \u001b[38;5;34m150\u001b[0m, \u001b[38;5;34m3\u001b[0m)         │           │                │       │\n",
       "├───────────────────┼─────────────────┼───────────┼────────────────┼───────┤\n",
       "│ rescaling_1       │ (\u001b[38;5;45mNone\u001b[0m, \u001b[38;5;34m150\u001b[0m,     │         \u001b[38;5;34m0\u001b[0m │ input_1[\u001b[38;5;34m0\u001b[0m][\u001b[38;5;34m0\u001b[0m]  │   \u001b[1m-\u001b[0m   │\n",
       "│ (\u001b[38;5;33mRescaling\u001b[0m)       │ \u001b[38;5;34m150\u001b[0m, \u001b[38;5;34m3\u001b[0m)         │           │                │       │\n",
       "├───────────────────┼─────────────────┼───────────┼────────────────┼───────┤\n",
       "│ densenet201       │ (\u001b[38;5;45mNone\u001b[0m, \u001b[38;5;34m4\u001b[0m, \u001b[38;5;34m4\u001b[0m,    │ \u001b[38;5;34m18,321,9…\u001b[0m │ rescaling[\u001b[38;5;34m0\u001b[0m][\u001b[38;5;34m…\u001b[0m │   \u001b[1;91mN\u001b[0m   │\n",
       "│ (\u001b[38;5;33mFunctional\u001b[0m)      │ \u001b[38;5;34m1920\u001b[0m)           │           │                │       │\n",
       "├───────────────────┼─────────────────┼───────────┼────────────────┼───────┤\n",
       "│ vgg16             │ (\u001b[38;5;45mNone\u001b[0m, \u001b[38;5;34m4\u001b[0m, \u001b[38;5;34m4\u001b[0m,    │ \u001b[38;5;34m14,714,6…\u001b[0m │ rescaling_1[\u001b[38;5;34m0\u001b[0m… │   \u001b[1;91mN\u001b[0m   │\n",
       "│ (\u001b[38;5;33mFunctional\u001b[0m)      │ \u001b[38;5;34m512\u001b[0m)            │           │                │       │\n",
       "├───────────────────┼─────────────────┼───────────┼────────────────┼───────┤\n",
       "│ global_average_p… │ (\u001b[38;5;45mNone\u001b[0m, \u001b[38;5;34m1920\u001b[0m)    │         \u001b[38;5;34m0\u001b[0m │ densenet201[\u001b[38;5;34m0\u001b[0m… │   \u001b[1m-\u001b[0m   │\n",
       "│ (\u001b[38;5;33mGlobalAveragePo…\u001b[0m │                 │           │                │       │\n",
       "├───────────────────┼─────────────────┼───────────┼────────────────┼───────┤\n",
       "│ global_average_p… │ (\u001b[38;5;45mNone\u001b[0m, \u001b[38;5;34m512\u001b[0m)     │         \u001b[38;5;34m0\u001b[0m │ vgg16[\u001b[38;5;34m0\u001b[0m][\u001b[38;5;34m0\u001b[0m]    │   \u001b[1m-\u001b[0m   │\n",
       "│ (\u001b[38;5;33mGlobalAveragePo…\u001b[0m │                 │           │                │       │\n",
       "├───────────────────┼─────────────────┼───────────┼────────────────┼───────┤\n",
       "│ dropout (\u001b[38;5;33mDropout\u001b[0m) │ (\u001b[38;5;45mNone\u001b[0m, \u001b[38;5;34m1920\u001b[0m)    │         \u001b[38;5;34m0\u001b[0m │ global_averag… │   \u001b[1m-\u001b[0m   │\n",
       "├───────────────────┼─────────────────┼───────────┼────────────────┼───────┤\n",
       "│ dropout_3         │ (\u001b[38;5;45mNone\u001b[0m, \u001b[38;5;34m512\u001b[0m)     │         \u001b[38;5;34m0\u001b[0m │ global_averag… │   \u001b[1m-\u001b[0m   │\n",
       "│ (\u001b[38;5;33mDropout\u001b[0m)         │                 │           │                │       │\n",
       "├───────────────────┼─────────────────┼───────────┼────────────────┼───────┤\n",
       "│ dense (\u001b[38;5;33mDense\u001b[0m)     │ (\u001b[38;5;45mNone\u001b[0m, \u001b[38;5;34m256\u001b[0m)     │   \u001b[38;5;34m491,776\u001b[0m │ dropout[\u001b[38;5;34m0\u001b[0m][\u001b[38;5;34m0\u001b[0m]  │   \u001b[1;38;5;34mY\u001b[0m   │\n",
       "├───────────────────┼─────────────────┼───────────┼────────────────┼───────┤\n",
       "│ dense_3 (\u001b[38;5;33mDense\u001b[0m)   │ (\u001b[38;5;45mNone\u001b[0m, \u001b[38;5;34m256\u001b[0m)     │   \u001b[38;5;34m131,328\u001b[0m │ dropout_3[\u001b[38;5;34m0\u001b[0m][\u001b[38;5;34m…\u001b[0m │   \u001b[1;38;5;34mY\u001b[0m   │\n",
       "├───────────────────┼─────────────────┼───────────┼────────────────┼───────┤\n",
       "│ dropout_1         │ (\u001b[38;5;45mNone\u001b[0m, \u001b[38;5;34m256\u001b[0m)     │         \u001b[38;5;34m0\u001b[0m │ dense[\u001b[38;5;34m0\u001b[0m][\u001b[38;5;34m0\u001b[0m]    │   \u001b[1m-\u001b[0m   │\n",
       "│ (\u001b[38;5;33mDropout\u001b[0m)         │                 │           │                │       │\n",
       "├───────────────────┼─────────────────┼───────────┼────────────────┼───────┤\n",
       "│ dropout_4         │ (\u001b[38;5;45mNone\u001b[0m, \u001b[38;5;34m256\u001b[0m)     │         \u001b[38;5;34m0\u001b[0m │ dense_3[\u001b[38;5;34m0\u001b[0m][\u001b[38;5;34m0\u001b[0m]  │   \u001b[1m-\u001b[0m   │\n",
       "│ (\u001b[38;5;33mDropout\u001b[0m)         │                 │           │                │       │\n",
       "├───────────────────┼─────────────────┼───────────┼────────────────┼───────┤\n",
       "│ concatenate       │ (\u001b[38;5;45mNone\u001b[0m, \u001b[38;5;34m512\u001b[0m)     │         \u001b[38;5;34m0\u001b[0m │ dropout_1[\u001b[38;5;34m0\u001b[0m][\u001b[38;5;34m…\u001b[0m │   \u001b[1m-\u001b[0m   │\n",
       "│ (\u001b[38;5;33mConcatenate\u001b[0m)     │                 │           │ dropout_4[\u001b[38;5;34m0\u001b[0m][\u001b[38;5;34m…\u001b[0m │       │\n",
       "├───────────────────┼─────────────────┼───────────┼────────────────┼───────┤\n",
       "│ attention_fc1     │ (\u001b[38;5;45mNone\u001b[0m, \u001b[38;5;34m256\u001b[0m)     │   \u001b[38;5;34m131,328\u001b[0m │ concatenate[\u001b[38;5;34m0\u001b[0m… │   \u001b[1;38;5;34mY\u001b[0m   │\n",
       "│ (\u001b[38;5;33mDense\u001b[0m)           │                 │           │                │       │\n",
       "├───────────────────┼─────────────────┼───────────┼────────────────┼───────┤\n",
       "│ attention_fc2     │ (\u001b[38;5;45mNone\u001b[0m, \u001b[38;5;34m512\u001b[0m)     │   \u001b[38;5;34m131,584\u001b[0m │ attention_fc1… │   \u001b[1;38;5;34mY\u001b[0m   │\n",
       "│ (\u001b[38;5;33mDense\u001b[0m)           │                 │           │                │       │\n",
       "├───────────────────┼─────────────────┼───────────┼────────────────┼───────┤\n",
       "│ multiply          │ (\u001b[38;5;45mNone\u001b[0m, \u001b[38;5;34m512\u001b[0m)     │         \u001b[38;5;34m0\u001b[0m │ concatenate[\u001b[38;5;34m0\u001b[0m… │   \u001b[1m-\u001b[0m   │\n",
       "│ (\u001b[38;5;33mMultiply\u001b[0m)        │                 │           │ attention_fc2… │       │\n",
       "├───────────────────┼─────────────────┼───────────┼────────────────┼───────┤\n",
       "│ final_dense_layer │ (\u001b[38;5;45mNone\u001b[0m, \u001b[38;5;34m4\u001b[0m)       │     \u001b[38;5;34m2,052\u001b[0m │ multiply[\u001b[38;5;34m0\u001b[0m][\u001b[38;5;34m0\u001b[0m] │   \u001b[1;38;5;34mY\u001b[0m   │\n",
       "│ (\u001b[38;5;33mDense\u001b[0m)           │                 │           │                │       │\n",
       "└───────────────────┴─────────────────┴───────────┴────────────────┴───────┘\n"
      ]
     },
     "metadata": {},
     "output_type": "display_data"
    },
    {
     "data": {
      "text/html": [
       "<pre style=\"white-space:pre;overflow-x:auto;line-height:normal;font-family:Menlo,'DejaVu Sans Mono',consolas,'Courier New',monospace\"><span style=\"font-weight: bold\"> Total params: </span><span style=\"color: #00af00; text-decoration-color: #00af00\">33,924,740</span> (129.41 MB)\n",
       "</pre>\n"
      ],
      "text/plain": [
       "\u001b[1m Total params: \u001b[0m\u001b[38;5;34m33,924,740\u001b[0m (129.41 MB)\n"
      ]
     },
     "metadata": {},
     "output_type": "display_data"
    },
    {
     "data": {
      "text/html": [
       "<pre style=\"white-space:pre;overflow-x:auto;line-height:normal;font-family:Menlo,'DejaVu Sans Mono',consolas,'Courier New',monospace\"><span style=\"font-weight: bold\"> Trainable params: </span><span style=\"color: #00af00; text-decoration-color: #00af00\">888,068</span> (3.39 MB)\n",
       "</pre>\n"
      ],
      "text/plain": [
       "\u001b[1m Trainable params: \u001b[0m\u001b[38;5;34m888,068\u001b[0m (3.39 MB)\n"
      ]
     },
     "metadata": {},
     "output_type": "display_data"
    },
    {
     "data": {
      "text/html": [
       "<pre style=\"white-space:pre;overflow-x:auto;line-height:normal;font-family:Menlo,'DejaVu Sans Mono',consolas,'Courier New',monospace\"><span style=\"font-weight: bold\"> Non-trainable params: </span><span style=\"color: #00af00; text-decoration-color: #00af00\">33,036,672</span> (126.02 MB)\n",
       "</pre>\n"
      ],
      "text/plain": [
       "\u001b[1m Non-trainable params: \u001b[0m\u001b[38;5;34m33,036,672\u001b[0m (126.02 MB)\n"
      ]
     },
     "metadata": {},
     "output_type": "display_data"
    }
   ],
   "source": [
    "layer = fusion_model.layers[-6]\n",
    "layer.trainable = False\n",
    "layer = fusion_model.layers[-7]\n",
    "layer.trainable = False\n",
    "\n",
    "fusion_model.summary(show_trainable=True)"
   ]
  },
  {
   "cell_type": "code",
   "execution_count": 23,
   "id": "0526980d-b692-4325-baf0-bf4d70dc131c",
   "metadata": {},
   "outputs": [
    {
     "name": "stdout",
     "output_type": "stream",
     "text": [
      "Found 160 files belonging to 4 classes.\n",
      "Found 160 files belonging to 4 classes.\n"
     ]
    }
   ],
   "source": [
    "dataset = keras.utils.image_dataset_from_directory(\n",
    "    'small_kaggle',\n",
    "    labels=\"inferred\",\n",
    "    label_mode=\"int\",\n",
    "    class_names=None,\n",
    "    color_mode=\"rgb\",\n",
    "    batch_size=16,\n",
    "    image_size=(150, 150),\n",
    "    shuffle=True\n",
    "   \n",
    ")\n",
    "fine_tune_ds = keras.utils.image_dataset_from_directory(\n",
    "    'my_images',\n",
    "    labels=\"inferred\",\n",
    "    label_mode=\"int\",\n",
    "    class_names=None,\n",
    "    color_mode=\"rgb\",\n",
    "    batch_size=16,\n",
    "    image_size=(150, 150),\n",
    "    shuffle=True\n",
    ")"
   ]
  },
  {
   "cell_type": "code",
   "execution_count": 24,
   "id": "75e94a59-7427-4131-834e-3422468bfc9a",
   "metadata": {
    "scrolled": true
   },
   "outputs": [],
   "source": [
    "# dataset=dataset.unbatch()\n",
    "# training_ds, validation_ds = tf.keras.utils.split_dataset(\n",
    "#     dataset, left_size=0.8, shuffle=False, seed=None\n",
    "# )\n",
    "# print(f\"length training data set: {len(training_ds)}\")\n",
    "# print(f\"length validation data set: {len(validation_ds)}\")\n",
    "# training_ds = training_ds.batch(16)\n",
    "# validation_ds = validation_ds.batch(16)\n",
    "# print(f\"# of batch for training data set: {len(training_ds)}\")\n",
    "# print(f\"# of batch for validation data set: {len(validation_ds)}\")"
   ]
  },
  {
   "cell_type": "code",
   "execution_count": 25,
   "id": "44af3704-f320-480e-9edc-3c79c6f39910",
   "metadata": {},
   "outputs": [],
   "source": [
    "# #Augmentation (flips, zoom...)\n",
    "\n",
    "# augmentation_layers = [\n",
    "#     layers.RandomFlip(\"horizontal_and_vertical\"),\n",
    "#     layers.RandomRotation(0.2),\n",
    "#     layers.RandomZoom(0.2),                           \n",
    "#     layers.RandomContrast(0.2),              \n",
    "#     layers.RandomBrightness(0.2),             \n",
    "# ]\n",
    "\n",
    "# def augmentation_layer(x):\n",
    "#     for layer in augmentation_layers:\n",
    "#         x = layer(x)\n",
    "#     return x\n",
    "\n",
    "# training_ds = training_ds.map(lambda x, y: (augmentation_layer(x), y))\n"
   ]
  },
  {
   "cell_type": "code",
   "execution_count": 26,
   "id": "4bbfbb73-3cb3-477c-9c95-33f1810d22e1",
   "metadata": {
    "scrolled": true
   },
   "outputs": [
    {
     "name": "stdout",
     "output_type": "stream",
     "text": [
      "Original dataset size: 10\n",
      "Augmented dataset size: 30\n",
      "Final dataset size: 40\n",
      "\n",
      "\n",
      "Original dataset size: 10\n",
      "Augmented dataset size: 30\n",
      "Final dataset size: 40\n"
     ]
    }
   ],
   "source": [
    "\n",
    "\n",
    "# Define augmentation layers\n",
    "augmentation_layers = keras.Sequential([\n",
    "    layers.RandomFlip(\"horizontal_and_vertical\"),\n",
    "    layers.RandomRotation(0.1),\n",
    "    layers.RandomZoom(0.1),\n",
    "    layers.RandomContrast(0.1),\n",
    "    layers.RandomBrightness(0.1),\n",
    "])\n",
    "\n",
    "# Function to apply augmentation multiple times per image\n",
    "def augment_multiple_times(image, label, num_augmentations=3):\n",
    "    \"\"\"Applies augmentation multiple times to each image.\"\"\"\n",
    "    augmented_images = [augmentation_layers(image) for _ in range(num_augmentations)]\n",
    "    augmented_labels = [label] * num_augmentations  # Repeat labels\n",
    "    return tf.data.Dataset.from_tensor_slices((augmented_images, augmented_labels))\n",
    "\n",
    "# Apply augmentation multiple times and flatten the dataset\n",
    "augmented_datasets = fine_tune_ds.flat_map(lambda x, y: augment_multiple_times(x, y, num_augmentations=3))\n",
    "augmented_datasets1 = dataset.flat_map(lambda x, y: augment_multiple_times(x, y, num_augmentations=3))\n",
    "# Combine original dataset with augmented dataset\n",
    "expanded_training_ds = fine_tune_ds.concatenate(augmented_datasets)\n",
    "expanded_training_ds1 = fine_tune_ds.concatenate(augmented_datasets1)\n",
    "# Check dataset size\n",
    "print(\"Original dataset size:\", len(list(fine_tune_ds)))\n",
    "print(\"Augmented dataset size:\", len(list(augmented_datasets)))\n",
    "print(\"Final dataset size:\", len(list(expanded_training_ds)))\n",
    "\n",
    "print('\\n')\n",
    "print(\"Original dataset size:\", len(list(dataset)))\n",
    "print(\"Augmented dataset size:\", len(list(augmented_datasets1)))\n",
    "print(\"Final dataset size:\", len(list(expanded_training_ds1)))\n"
   ]
  },
  {
   "cell_type": "code",
   "execution_count": null,
   "id": "da5887fe-a84b-4b10-950b-96738a37ec65",
   "metadata": {},
   "outputs": [],
   "source": []
  },
  {
   "cell_type": "code",
   "execution_count": 27,
   "id": "deb3f51c-c6c3-4840-bee8-231e3fb7ae99",
   "metadata": {},
   "outputs": [
    {
     "name": "stdout",
     "output_type": "stream",
     "text": [
      "length training data set: 512\n",
      "length validation data set: 128\n"
     ]
    }
   ],
   "source": [
    "expanded_training_ds=expanded_training_ds.unbatch()\n",
    "exft_training_ds, exft_validation_ds = tf.keras.utils.split_dataset(\n",
    "    expanded_training_ds, left_size=0.8, shuffle=False, seed=None\n",
    ")\n",
    "print(f\"length training data set: {len(exft_training_ds)}\")\n",
    "print(f\"length validation data set: {len(exft_validation_ds)}\")\n",
    "exft_training_ds = exft_training_ds.batch(16)\n",
    "exft_validation_ds = exft_validation_ds.batch(16)\n"
   ]
  },
  {
   "cell_type": "code",
   "execution_count": 28,
   "id": "cc12d8ac-1768-48ba-869e-964eb837f3b5",
   "metadata": {
    "scrolled": true
   },
   "outputs": [
    {
     "name": "stdout",
     "output_type": "stream",
     "text": [
      "length training data set: 512\n",
      "length validation data set: 128\n"
     ]
    }
   ],
   "source": [
    "expanded_training_ds1=expanded_training_ds1.unbatch()\n",
    "training_ds1, validation_ds1 = tf.keras.utils.split_dataset(\n",
    "    expanded_training_ds1, left_size=0.8, shuffle=False, seed=None\n",
    ")\n",
    "print(f\"length training data set: {len(training_ds1)}\")\n",
    "print(f\"length validation data set: {len(validation_ds1)}\")\n",
    "training_ds1 = training_ds1.batch(16)\n",
    "validation_ds1 = validation_ds1.batch(16)\n"
   ]
  },
  {
   "cell_type": "code",
   "execution_count": null,
   "id": "d99229e5-9545-44c1-aae3-f89db9367fc7",
   "metadata": {},
   "outputs": [],
   "source": []
  },
  {
   "cell_type": "code",
   "execution_count": 29,
   "id": "f61e28cd-61bf-4780-886f-0739cca1dd8f",
   "metadata": {},
   "outputs": [],
   "source": [
    "def format_two_stream_data(dataset1, dataset2):\n",
    "    zipped_ds = tf.data.Dataset.zip((dataset1, dataset2))\n",
    "\n",
    "    def process_data(sample1, sample2):\n",
    "        img1, label1 = sample1  # Unpack image and label from dataset1\n",
    "        img2, label2 = sample2  # Unpack image and label from dataset2\n",
    "        \n",
    "        return (img1, img2), label1  # Return ((image1, image2), label)\n",
    "\n",
    "    return zipped_ds.map(process_data)\n",
    "\n",
    "# Apply formatting\n",
    "val_two_stream_dataset = format_two_stream_data(validation_ds1, exft_validation_ds)\n",
    "\n",
    "\n"
   ]
  },
  {
   "cell_type": "code",
   "execution_count": 30,
   "id": "4268a3c6-8ecb-4bf8-a475-244428d53408",
   "metadata": {},
   "outputs": [],
   "source": [
    "def format_two_stream_data(dataset1, dataset2):\n",
    "    zipped_ds = tf.data.Dataset.zip((dataset1, dataset2))\n",
    "\n",
    "    def process_data(sample1, sample2):\n",
    "        img1, label1 = sample1  # Unpack image and label from dataset1\n",
    "        img2, label2 = sample2  # Unpack image and label from dataset2\n",
    "        \n",
    "        return (img1, img2), label1  # Return ((image1, image2), label)\n",
    "\n",
    "    return zipped_ds.map(process_data)\n",
    "\n",
    "# Apply formatting\n",
    "valval_two_stream_dataset = format_two_stream_data(validation_ds1, validation_ds1)\n",
    "\n",
    "\n"
   ]
  },
  {
   "cell_type": "code",
   "execution_count": 31,
   "id": "9bcbab65-249e-45e4-b124-b934055c9ee1",
   "metadata": {},
   "outputs": [],
   "source": [
    "def format_two_stream_data(dataset1, dataset2):\n",
    "    zipped_ds = tf.data.Dataset.zip((dataset1, dataset2))\n",
    "\n",
    "    def process_data(sample1, sample2):\n",
    "        img1, label1 = sample1  # Unpack image and label from dataset1\n",
    "        img2, label2 = sample2  # Unpack image and label from dataset2\n",
    "        \n",
    "        return (img1, img2), label1  # Return ((image1, image2), label)\n",
    "\n",
    "    return zipped_ds.map(process_data)\n",
    "\n",
    "# Apply formatting\n",
    "two_stream_dataset = format_two_stream_data(training_ds1, exft_training_ds)\n",
    "\n",
    "\n"
   ]
  },
  {
   "cell_type": "code",
   "execution_count": 35,
   "id": "fda9a6e8-74b6-485f-9f80-6bd133c76a00",
   "metadata": {},
   "outputs": [],
   "source": [
    "def format_two_stream_data(dataset1, dataset2):\n",
    "    zipped_ds = tf.data.Dataset.zip((dataset1, dataset2))\n",
    "\n",
    "    def process_data(sample1, sample2):\n",
    "        img1, label1 = sample1  # Unpack image and label from dataset1\n",
    "        img2, label2 = sample2  # Unpack image and label from dataset2\n",
    "        \n",
    "        return (img1, img2), label1  # Return ((image1, image2), label)\n",
    "\n",
    "    return zipped_ds.map(process_data)\n",
    "\n",
    "# Apply formatting\n",
    "two_stream_dataset_val1 = format_two_stream_data(validation_ds1, exft_validation_ds)\n",
    "\n",
    "\n"
   ]
  },
  {
   "cell_type": "code",
   "execution_count": 33,
   "id": "2e4feda4-cd4b-4543-afb3-da837aff8a2e",
   "metadata": {},
   "outputs": [
    {
     "name": "stdout",
     "output_type": "stream",
     "text": [
      "Image 1 batch shape: (16, 150, 150, 3)\n",
      "Image 2 batch shape: (16, 150, 150, 3)\n",
      "Labels batch shape: (16,)\n"
     ]
    }
   ],
   "source": [
    "for batch in two_stream_dataset.take(1):\n",
    "    (img1, img2), labels = batch\n",
    "    print(f\"Image 1 batch shape: {img1.shape}\")\n",
    "    print(f\"Image 2 batch shape: {img2.shape}\")\n",
    "    print(f\"Labels batch shape: {labels.shape}\")\n"
   ]
  },
  {
   "cell_type": "code",
   "execution_count": null,
   "id": "ae4a3dc9-0bb2-46dd-a616-5f0853d734ef",
   "metadata": {
    "scrolled": true
   },
   "outputs": [],
   "source": []
  },
  {
   "cell_type": "code",
   "execution_count": 34,
   "id": "23ba9ed5-660b-4877-bb33-41d9670c2f4f",
   "metadata": {},
   "outputs": [
    {
     "name": "stdout",
     "output_type": "stream",
     "text": [
      "Fit model on training data\n",
      "Epoch 1/30\n",
      "\u001b[1m32/32\u001b[0m \u001b[32m━━━━━━━━━━━━━━━━━━━━\u001b[0m\u001b[37m\u001b[0m \u001b[1m19s\u001b[0m 26ms/step - loss: 1.3911 - sparse_categorical_accuracy: 0.5481\n",
      "Epoch 2/30\n",
      "\u001b[1m32/32\u001b[0m \u001b[32m━━━━━━━━━━━━━━━━━━━━\u001b[0m\u001b[37m\u001b[0m \u001b[1m1s\u001b[0m 24ms/step - loss: 0.8913 - sparse_categorical_accuracy: 0.6815\n",
      "Epoch 3/30\n",
      "\u001b[1m32/32\u001b[0m \u001b[32m━━━━━━━━━━━━━━━━━━━━\u001b[0m\u001b[37m\u001b[0m \u001b[1m1s\u001b[0m 24ms/step - loss: 0.7033 - sparse_categorical_accuracy: 0.7548\n",
      "Epoch 4/30\n",
      "\u001b[1m32/32\u001b[0m \u001b[32m━━━━━━━━━━━━━━━━━━━━\u001b[0m\u001b[37m\u001b[0m \u001b[1m1s\u001b[0m 24ms/step - loss: 0.4610 - sparse_categorical_accuracy: 0.8288\n",
      "Epoch 5/30\n",
      "\u001b[1m32/32\u001b[0m \u001b[32m━━━━━━━━━━━━━━━━━━━━\u001b[0m\u001b[37m\u001b[0m \u001b[1m1s\u001b[0m 24ms/step - loss: 0.3814 - sparse_categorical_accuracy: 0.8645\n",
      "Epoch 6/30\n",
      "\u001b[1m32/32\u001b[0m \u001b[32m━━━━━━━━━━━━━━━━━━━━\u001b[0m\u001b[37m\u001b[0m \u001b[1m1s\u001b[0m 24ms/step - loss: 0.3282 - sparse_categorical_accuracy: 0.8873\n",
      "Epoch 7/30\n",
      "\u001b[1m32/32\u001b[0m \u001b[32m━━━━━━━━━━━━━━━━━━━━\u001b[0m\u001b[37m\u001b[0m \u001b[1m1s\u001b[0m 24ms/step - loss: 0.4794 - sparse_categorical_accuracy: 0.8284\n",
      "Epoch 8/30\n",
      "\u001b[1m32/32\u001b[0m \u001b[32m━━━━━━━━━━━━━━━━━━━━\u001b[0m\u001b[37m\u001b[0m \u001b[1m1s\u001b[0m 25ms/step - loss: 0.2496 - sparse_categorical_accuracy: 0.9120\n",
      "Epoch 9/30\n",
      "\u001b[1m32/32\u001b[0m \u001b[32m━━━━━━━━━━━━━━━━━━━━\u001b[0m\u001b[37m\u001b[0m \u001b[1m1s\u001b[0m 24ms/step - loss: 0.4107 - sparse_categorical_accuracy: 0.8708\n",
      "Epoch 10/30\n",
      "\u001b[1m32/32\u001b[0m \u001b[32m━━━━━━━━━━━━━━━━━━━━\u001b[0m\u001b[37m\u001b[0m \u001b[1m1s\u001b[0m 24ms/step - loss: 0.2286 - sparse_categorical_accuracy: 0.9128\n",
      "Epoch 11/30\n",
      "\u001b[1m32/32\u001b[0m \u001b[32m━━━━━━━━━━━━━━━━━━━━\u001b[0m\u001b[37m\u001b[0m \u001b[1m1s\u001b[0m 24ms/step - loss: 0.2002 - sparse_categorical_accuracy: 0.9223\n",
      "Epoch 12/30\n",
      "\u001b[1m32/32\u001b[0m \u001b[32m━━━━━━━━━━━━━━━━━━━━\u001b[0m\u001b[37m\u001b[0m \u001b[1m1s\u001b[0m 24ms/step - loss: 0.1678 - sparse_categorical_accuracy: 0.9223\n",
      "Epoch 13/30\n",
      "\u001b[1m32/32\u001b[0m \u001b[32m━━━━━━━━━━━━━━━━━━━━\u001b[0m\u001b[37m\u001b[0m \u001b[1m1s\u001b[0m 24ms/step - loss: 0.1316 - sparse_categorical_accuracy: 0.9621\n",
      "Epoch 14/30\n",
      "\u001b[1m32/32\u001b[0m \u001b[32m━━━━━━━━━━━━━━━━━━━━\u001b[0m\u001b[37m\u001b[0m \u001b[1m1s\u001b[0m 24ms/step - loss: 0.2078 - sparse_categorical_accuracy: 0.9225\n",
      "Epoch 15/30\n",
      "\u001b[1m32/32\u001b[0m \u001b[32m━━━━━━━━━━━━━━━━━━━━\u001b[0m\u001b[37m\u001b[0m \u001b[1m1s\u001b[0m 24ms/step - loss: 0.2471 - sparse_categorical_accuracy: 0.9119\n",
      "Epoch 16/30\n",
      "\u001b[1m32/32\u001b[0m \u001b[32m━━━━━━━━━━━━━━━━━━━━\u001b[0m\u001b[37m\u001b[0m \u001b[1m1s\u001b[0m 24ms/step - loss: 0.1161 - sparse_categorical_accuracy: 0.9538\n",
      "Epoch 17/30\n",
      "\u001b[1m32/32\u001b[0m \u001b[32m━━━━━━━━━━━━━━━━━━━━\u001b[0m\u001b[37m\u001b[0m \u001b[1m1s\u001b[0m 24ms/step - loss: 0.1101 - sparse_categorical_accuracy: 0.9625\n",
      "Epoch 18/30\n",
      "\u001b[1m32/32\u001b[0m \u001b[32m━━━━━━━━━━━━━━━━━━━━\u001b[0m\u001b[37m\u001b[0m \u001b[1m1s\u001b[0m 24ms/step - loss: 0.2282 - sparse_categorical_accuracy: 0.9356\n",
      "Epoch 19/30\n",
      "\u001b[1m32/32\u001b[0m \u001b[32m━━━━━━━━━━━━━━━━━━━━\u001b[0m\u001b[37m\u001b[0m \u001b[1m1s\u001b[0m 24ms/step - loss: 0.1929 - sparse_categorical_accuracy: 0.9464\n",
      "Epoch 20/30\n",
      "\u001b[1m32/32\u001b[0m \u001b[32m━━━━━━━━━━━━━━━━━━━━\u001b[0m\u001b[37m\u001b[0m \u001b[1m1s\u001b[0m 24ms/step - loss: 0.0761 - sparse_categorical_accuracy: 0.9612\n",
      "Epoch 21/30\n",
      "\u001b[1m32/32\u001b[0m \u001b[32m━━━━━━━━━━━━━━━━━━━━\u001b[0m\u001b[37m\u001b[0m \u001b[1m1s\u001b[0m 24ms/step - loss: 0.1581 - sparse_categorical_accuracy: 0.9676\n",
      "Epoch 22/30\n",
      "\u001b[1m32/32\u001b[0m \u001b[32m━━━━━━━━━━━━━━━━━━━━\u001b[0m\u001b[37m\u001b[0m \u001b[1m1s\u001b[0m 24ms/step - loss: 0.0759 - sparse_categorical_accuracy: 0.9676\n",
      "Epoch 23/30\n",
      "\u001b[1m32/32\u001b[0m \u001b[32m━━━━━━━━━━━━━━━━━━━━\u001b[0m\u001b[37m\u001b[0m \u001b[1m1s\u001b[0m 23ms/step - loss: 0.0962 - sparse_categorical_accuracy: 0.9591\n",
      "Epoch 24/30\n",
      "\u001b[1m32/32\u001b[0m \u001b[32m━━━━━━━━━━━━━━━━━━━━\u001b[0m\u001b[37m\u001b[0m \u001b[1m1s\u001b[0m 24ms/step - loss: 0.1510 - sparse_categorical_accuracy: 0.9525\n",
      "Epoch 25/30\n",
      "\u001b[1m32/32\u001b[0m \u001b[32m━━━━━━━━━━━━━━━━━━━━\u001b[0m\u001b[37m\u001b[0m \u001b[1m1s\u001b[0m 24ms/step - loss: 0.1689 - sparse_categorical_accuracy: 0.9474\n",
      "Epoch 26/30\n",
      "\u001b[1m32/32\u001b[0m \u001b[32m━━━━━━━━━━━━━━━━━━━━\u001b[0m\u001b[37m\u001b[0m \u001b[1m1s\u001b[0m 23ms/step - loss: 0.1515 - sparse_categorical_accuracy: 0.9573\n",
      "Epoch 27/30\n",
      "\u001b[1m32/32\u001b[0m \u001b[32m━━━━━━━━━━━━━━━━━━━━\u001b[0m\u001b[37m\u001b[0m \u001b[1m1s\u001b[0m 24ms/step - loss: 0.1201 - sparse_categorical_accuracy: 0.9579\n",
      "Epoch 28/30\n",
      "\u001b[1m32/32\u001b[0m \u001b[32m━━━━━━━━━━━━━━━━━━━━\u001b[0m\u001b[37m\u001b[0m \u001b[1m1s\u001b[0m 25ms/step - loss: 0.0460 - sparse_categorical_accuracy: 0.9871\n",
      "Epoch 29/30\n",
      "\u001b[1m32/32\u001b[0m \u001b[32m━━━━━━━━━━━━━━━━━━━━\u001b[0m\u001b[37m\u001b[0m \u001b[1m1s\u001b[0m 25ms/step - loss: 0.0985 - sparse_categorical_accuracy: 0.9762\n",
      "Epoch 30/30\n",
      "\u001b[1m32/32\u001b[0m \u001b[32m━━━━━━━━━━━━━━━━━━━━\u001b[0m\u001b[37m\u001b[0m \u001b[1m1s\u001b[0m 24ms/step - loss: 0.0982 - sparse_categorical_accuracy: 0.9794\n"
     ]
    }
   ],
   "source": [
    "fusion_model.compile(\n",
    "    optimizer=keras.optimizers.RMSprop(),  # Optimizer\n",
    "    # Loss function to minimize\n",
    "    loss=keras.losses.SparseCategoricalCrossentropy(),\n",
    "    # List of metrics to monitor\n",
    "    metrics=[keras.metrics.SparseCategoricalAccuracy()],\n",
    ")\n",
    "print(\"Fit model on training data\")\n",
    "history = fusion_model.fit(\n",
    "    two_stream_dataset,\n",
    "    epochs=30,\n",
    ")"
   ]
  },
  {
   "cell_type": "code",
   "execution_count": 36,
   "id": "6c1aa59b-fa68-48fe-883a-2b1fc60b8992",
   "metadata": {},
   "outputs": [
    {
     "name": "stdout",
     "output_type": "stream",
     "text": [
      "\u001b[1m8/8\u001b[0m \u001b[32m━━━━━━━━━━━━━━━━━━━━\u001b[0m\u001b[37m\u001b[0m \u001b[1m10s\u001b[0m 28ms/step - loss: 0.1755 - sparse_categorical_accuracy: 0.9224\n",
      "Validation Accuracy: 0.8984375\n",
      "Validation Loss: 0.26184138655662537\n"
     ]
    }
   ],
   "source": [
    "loss, accuracy = fusion_model.evaluate(two_stream_dataset_val1)\n",
    "\n",
    "print(f'Validation Accuracy: {accuracy}')\n",
    "print(f'Validation Loss: {loss}')"
   ]
  },
  {
   "cell_type": "code",
   "execution_count": 37,
   "id": "2b7dae8f-f6b6-4757-8f72-5b5ba3e2c4c3",
   "metadata": {},
   "outputs": [
    {
     "name": "stdout",
     "output_type": "stream",
     "text": [
      "\u001b[1m8/8\u001b[0m \u001b[32m━━━━━━━━━━━━━━━━━━━━\u001b[0m\u001b[37m\u001b[0m \u001b[1m9s\u001b[0m 28ms/step - loss: 0.0983 - sparse_categorical_accuracy: 0.9638\n",
      "Validation Accuracy: 0.9453125\n",
      "Validation Loss: 0.14443504810333252\n"
     ]
    }
   ],
   "source": [
    "loss, accuracy = fusion_model.evaluate(two_stream_dataset_val1)\n",
    "\n",
    "print(f'Validation Accuracy: {accuracy}')\n",
    "print(f'Validation Loss: {loss}')"
   ]
  },
  {
   "cell_type": "code",
   "execution_count": 37,
   "id": "7ca9d47d-e1fd-4abf-ad6b-a18d1dc77b84",
   "metadata": {},
   "outputs": [],
   "source": [
    "fusion_model.save('fusion_model.keras')"
   ]
  },
  {
   "cell_type": "code",
   "execution_count": 20,
   "id": "56bc74ba-1578-4e09-b667-6872ad7ef56d",
   "metadata": {},
   "outputs": [
    {
     "name": "stdout",
     "output_type": "stream",
     "text": [
      "\u001b[1m1/1\u001b[0m \u001b[32m━━━━━━━━━━━━━━━━━━━━\u001b[0m\u001b[37m\u001b[0m \u001b[1m9s\u001b[0m 9s/step\n",
      "\u001b[1m1/1\u001b[0m \u001b[32m━━━━━━━━━━━━━━━━━━━━\u001b[0m\u001b[37m\u001b[0m \u001b[1m0s\u001b[0m 28ms/step\n",
      "\u001b[1m1/1\u001b[0m \u001b[32m━━━━━━━━━━━━━━━━━━━━\u001b[0m\u001b[37m\u001b[0m \u001b[1m0s\u001b[0m 24ms/step\n",
      "\u001b[1m1/1\u001b[0m \u001b[32m━━━━━━━━━━━━━━━━━━━━\u001b[0m\u001b[37m\u001b[0m \u001b[1m0s\u001b[0m 27ms/step\n",
      "\u001b[1m1/1\u001b[0m \u001b[32m━━━━━━━━━━━━━━━━━━━━\u001b[0m\u001b[37m\u001b[0m \u001b[1m0s\u001b[0m 24ms/step\n",
      "\u001b[1m1/1\u001b[0m \u001b[32m━━━━━━━━━━━━━━━━━━━━\u001b[0m\u001b[37m\u001b[0m \u001b[1m0s\u001b[0m 29ms/step\n",
      "\u001b[1m1/1\u001b[0m \u001b[32m━━━━━━━━━━━━━━━━━━━━\u001b[0m\u001b[37m\u001b[0m \u001b[1m0s\u001b[0m 30ms/step\n",
      "\u001b[1m1/1\u001b[0m \u001b[32m━━━━━━━━━━━━━━━━━━━━\u001b[0m\u001b[37m\u001b[0m \u001b[1m0s\u001b[0m 28ms/step\n",
      "[[49  0  0  0]\n",
      " [ 0 26  1  0]\n",
      " [ 0  0 29  0]\n",
      " [ 0  0  0 23]]\n"
     ]
    }
   ],
   "source": [
    "y_true = []\n",
    "y_pred = []\n",
    "\n",
    "for images, labels in val_two_stream_dataset:\n",
    "    preds = fusion_model.predict(images)\n",
    "    y_pred.extend(np.argmax(preds, axis=1))  # Convert one-hot to class index\n",
    "    y_true.extend(labels)  # Get true labels\n",
    "\n",
    "# Create a confusion matrix\n",
    "cm = confusion_matrix(y_true, y_pred)\n",
    "print(cm)\n",
    "\n"
   ]
  },
  {
   "cell_type": "code",
   "execution_count": 39,
   "id": "e8181125-6023-4d11-886f-0f90339bd83d",
   "metadata": {},
   "outputs": [
    {
     "name": "stdout",
     "output_type": "stream",
     "text": [
      "\u001b[1m8/8\u001b[0m \u001b[32m━━━━━━━━━━━━━━━━━━━━\u001b[0m\u001b[37m\u001b[0m \u001b[1m0s\u001b[0m 27ms/step - loss: 0.7200 - sparse_categorical_accuracy: 0.7745\n",
      "Validation Accuracy: 0.78125\n",
      "Validation Loss: 0.7730916738510132\n"
     ]
    }
   ],
   "source": [
    "loss, accuracy = fusion_model.evaluate(valval_two_stream_dataset)\n",
    "\n",
    "print(f'Validation Accuracy: {accuracy}')\n",
    "print(f'Validation Loss: {loss}')"
   ]
  },
  {
   "cell_type": "code",
   "execution_count": null,
   "id": "f9c1587e-1c22-4484-8fd3-2efd400ad7e9",
   "metadata": {},
   "outputs": [],
   "source": []
  }
 ],
 "metadata": {
  "kernelspec": {
   "display_name": "Python 3 (ipykernel)",
   "language": "python",
   "name": "python3"
  },
  "language_info": {
   "codemirror_mode": {
    "name": "ipython",
    "version": 3
   },
   "file_extension": ".py",
   "mimetype": "text/x-python",
   "name": "python",
   "nbconvert_exporter": "python",
   "pygments_lexer": "ipython3",
   "version": "3.12.0"
  }
 },
 "nbformat": 4,
 "nbformat_minor": 5
}
